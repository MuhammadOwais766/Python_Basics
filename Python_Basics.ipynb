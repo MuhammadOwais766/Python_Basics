{
 "cells": [
  {
   "cell_type": "markdown",
   "id": "c79d4c01",
   "metadata": {},
   "source": [
    "# Variables"
   ]
  },
  {
   "cell_type": "code",
   "execution_count": 1,
   "id": "3603b113",
   "metadata": {},
   "outputs": [
    {
     "name": "stdout",
     "output_type": "stream",
     "text": [
      "10\n"
     ]
    }
   ],
   "source": [
    "x = 10\n",
    "print(x)"
   ]
  },
  {
   "cell_type": "code",
   "execution_count": 2,
   "id": "f06c509f",
   "metadata": {},
   "outputs": [
    {
     "data": {
      "text/plain": [
       "int"
      ]
     },
     "execution_count": 2,
     "metadata": {},
     "output_type": "execute_result"
    }
   ],
   "source": [
    "type(x)"
   ]
  },
  {
   "cell_type": "code",
   "execution_count": 4,
   "id": "b05d5e7b",
   "metadata": {},
   "outputs": [
    {
     "name": "stdout",
     "output_type": "stream",
     "text": [
      "ice cream\n"
     ]
    }
   ],
   "source": [
    "y = 'ice cream'\n",
    "print(y)"
   ]
  },
  {
   "cell_type": "code",
   "execution_count": 5,
   "id": "db84fe9b",
   "metadata": {},
   "outputs": [
    {
     "data": {
      "text/plain": [
       "str"
      ]
     },
     "execution_count": 5,
     "metadata": {},
     "output_type": "execute_result"
    }
   ],
   "source": [
    "type(y)"
   ]
  },
  {
   "cell_type": "code",
   "execution_count": 7,
   "id": "f9917403",
   "metadata": {},
   "outputs": [
    {
     "name": "stdout",
     "output_type": "stream",
     "text": [
      "chocolate ice cream\n"
     ]
    }
   ],
   "source": [
    "y = 'ice cream'\n",
    "y = 'chocolate ice cream'\n",
    "print(y)"
   ]
  },
  {
   "cell_type": "code",
   "execution_count": 8,
   "id": "6402c126",
   "metadata": {},
   "outputs": [
    {
     "name": "stdout",
     "output_type": "stream",
     "text": [
      "Chocolate\n",
      "Ice\n",
      "Cream\n"
     ]
    }
   ],
   "source": [
    "x,y,z = 'Chocolate','Ice','Cream'\n",
    "print(x)\n",
    "print(y)\n",
    "print(z)"
   ]
  },
  {
   "cell_type": "code",
   "execution_count": 10,
   "id": "852e6b30",
   "metadata": {},
   "outputs": [
    {
     "name": "stdout",
     "output_type": "stream",
     "text": [
      "Vanilla Ice Cream Vanilla Ice Cream Vanilla Ice Cream\n"
     ]
    }
   ],
   "source": [
    "x = y = z = 'Vanilla Ice Cream'\n",
    "print(x,y,z)"
   ]
  },
  {
   "cell_type": "code",
   "execution_count": 13,
   "id": "b713007d",
   "metadata": {},
   "outputs": [
    {
     "name": "stdout",
     "output_type": "stream",
     "text": [
      "Chocolate Ice Cream\n"
     ]
    }
   ],
   "source": [
    "ice_cream = ['Chocolate','Ice','Cream']\n",
    "x,y,z = ice_cream\n",
    "print(x,y,z)"
   ]
  },
  {
   "cell_type": "markdown",
   "id": "2e5076ed",
   "metadata": {},
   "source": [
    "# Naming Convention"
   ]
  },
  {
   "cell_type": "code",
   "execution_count": 12,
   "id": "0d2bc47b",
   "metadata": {},
   "outputs": [
    {
     "name": "stdout",
     "output_type": "stream",
     "text": [
      "Mint Ice Cream\n"
     ]
    }
   ],
   "source": [
    "#Camel case\n",
    "testVariableCase = 'Mint Ice Cream'\n",
    "print(testVariableCase)"
   ]
  },
  {
   "cell_type": "code",
   "execution_count": 14,
   "id": "aea02093",
   "metadata": {},
   "outputs": [
    {
     "name": "stdout",
     "output_type": "stream",
     "text": [
      "Butter Scotch Ice Cream\n"
     ]
    }
   ],
   "source": [
    "#Pascal case\n",
    "TestVariableCase = \"Butter Scotch Ice Cream\"\n",
    "print(TestVariableCase)"
   ]
  },
  {
   "cell_type": "code",
   "execution_count": 15,
   "id": "7b14fdab",
   "metadata": {},
   "outputs": [
    {
     "name": "stdout",
     "output_type": "stream",
     "text": [
      "Strawberry Ice Cream\n"
     ]
    }
   ],
   "source": [
    "#Snake case\n",
    "test_variable_case = 'Strawberry Ice Cream'\n",
    "print(test_variable_case)"
   ]
  },
  {
   "cell_type": "markdown",
   "id": "2e7a5e64",
   "metadata": {},
   "source": [
    "# Multiple Variables"
   ]
  },
  {
   "cell_type": "code",
   "execution_count": 18,
   "id": "fb17ebef",
   "metadata": {},
   "outputs": [
    {
     "name": "stdout",
     "output_type": "stream",
     "text": [
      "Ice Cream is good.\n"
     ]
    }
   ],
   "source": [
    "x = \"Ice Cream is \" + \"good.\"\n",
    "print(x)"
   ]
  },
  {
   "cell_type": "code",
   "execution_count": 21,
   "id": "cabea871",
   "metadata": {},
   "outputs": [
    {
     "name": "stdout",
     "output_type": "stream",
     "text": [
      "Ice Cream is good.\n"
     ]
    }
   ],
   "source": [
    "x = 'Ice Cream'\n",
    "y = ' is'\n",
    "z = ' good.'\n",
    "print(x+y+z)"
   ]
  },
  {
   "cell_type": "code",
   "execution_count": 22,
   "id": "e73ef6bc",
   "metadata": {},
   "outputs": [
    {
     "name": "stdout",
     "output_type": "stream",
     "text": [
      "I have 10 Ice Creams\n"
     ]
    }
   ],
   "source": [
    "x = 'I have'\n",
    "y = 10\n",
    "z = 'Ice Creams.'\n",
    "print(x,y,z)"
   ]
  },
  {
   "cell_type": "markdown",
   "id": "5f36c2ef",
   "metadata": {},
   "source": [
    "# Data Types"
   ]
  },
  {
   "cell_type": "code",
   "execution_count": 23,
   "id": "c59e1cda",
   "metadata": {},
   "outputs": [
    {
     "data": {
      "text/plain": [
       "int"
      ]
     },
     "execution_count": 23,
     "metadata": {},
     "output_type": "execute_result"
    }
   ],
   "source": [
    "type(12)"
   ]
  },
  {
   "cell_type": "code",
   "execution_count": 24,
   "id": "fb28c145",
   "metadata": {},
   "outputs": [
    {
     "data": {
      "text/plain": [
       "int"
      ]
     },
     "execution_count": 24,
     "metadata": {},
     "output_type": "execute_result"
    }
   ],
   "source": [
    "type(12+10)"
   ]
  },
  {
   "cell_type": "code",
   "execution_count": 25,
   "id": "c9206d43",
   "metadata": {},
   "outputs": [
    {
     "data": {
      "text/plain": [
       "float"
      ]
     },
     "execution_count": 25,
     "metadata": {},
     "output_type": "execute_result"
    }
   ],
   "source": [
    "type(12.10+1)"
   ]
  },
  {
   "cell_type": "code",
   "execution_count": 26,
   "id": "91a3dd93",
   "metadata": {},
   "outputs": [
    {
     "data": {
      "text/plain": [
       "complex"
      ]
     },
     "execution_count": 26,
     "metadata": {},
     "output_type": "execute_result"
    }
   ],
   "source": [
    "#Only 'j' works with complex data types\n",
    "type(12 + 3j)"
   ]
  },
  {
   "cell_type": "code",
   "execution_count": 29,
   "id": "dd9e13ac",
   "metadata": {},
   "outputs": [
    {
     "ename": "SyntaxError",
     "evalue": "invalid decimal literal (1890942281.py, line 2)",
     "output_type": "error",
     "traceback": [
      "\u001b[1;36m  Cell \u001b[1;32mIn[29], line 2\u001b[1;36m\u001b[0m\n\u001b[1;33m    type(12 + 3i)\u001b[0m\n\u001b[1;37m              ^\u001b[0m\n\u001b[1;31mSyntaxError\u001b[0m\u001b[1;31m:\u001b[0m invalid decimal literal\n"
     ]
    }
   ],
   "source": [
    "#Gives syntax error\n",
    "type(12 + 3i)"
   ]
  },
  {
   "cell_type": "code",
   "execution_count": 31,
   "id": "5f43a83c",
   "metadata": {},
   "outputs": [
    {
     "data": {
      "text/plain": [
       "bool"
      ]
     },
     "execution_count": 31,
     "metadata": {},
     "output_type": "execute_result"
    }
   ],
   "source": [
    "#Boolean\n",
    "type(False)"
   ]
  },
  {
   "cell_type": "code",
   "execution_count": 32,
   "id": "47c3e402",
   "metadata": {},
   "outputs": [
    {
     "data": {
      "text/plain": [
       "bool"
      ]
     },
     "execution_count": 32,
     "metadata": {},
     "output_type": "execute_result"
    }
   ],
   "source": [
    "type(1>5)"
   ]
  },
  {
   "cell_type": "code",
   "execution_count": 33,
   "id": "8c14e1ef",
   "metadata": {},
   "outputs": [
    {
     "data": {
      "text/plain": [
       "False"
      ]
     },
     "execution_count": 33,
     "metadata": {},
     "output_type": "execute_result"
    }
   ],
   "source": [
    "1 > 5"
   ]
  },
  {
   "cell_type": "code",
   "execution_count": 35,
   "id": "f2d04cb4",
   "metadata": {},
   "outputs": [
    {
     "data": {
      "text/plain": [
       "'Single Quote'"
      ]
     },
     "execution_count": 35,
     "metadata": {},
     "output_type": "execute_result"
    }
   ],
   "source": [
    "#Strings\n",
    "'Single Quote'"
   ]
  },
  {
   "cell_type": "code",
   "execution_count": 36,
   "id": "d8bf88be",
   "metadata": {},
   "outputs": [
    {
     "data": {
      "text/plain": [
       "'Double Quote'"
      ]
     },
     "execution_count": 36,
     "metadata": {},
     "output_type": "execute_result"
    }
   ],
   "source": [
    "\"Double Quote\""
   ]
  },
  {
   "cell_type": "code",
   "execution_count": 38,
   "id": "e188c0c9",
   "metadata": {},
   "outputs": [],
   "source": [
    "multiline = \"\"\"\n",
    "Ice Cream are good\n",
    "but bad for health\n",
    "so don't eat too many.\n",
    "\n",
    "\"\"\""
   ]
  },
  {
   "cell_type": "code",
   "execution_count": 39,
   "id": "d547c5d8",
   "metadata": {},
   "outputs": [
    {
     "name": "stdout",
     "output_type": "stream",
     "text": [
      "\n",
      "Ice Cream are good\n",
      "but bad for health\n",
      "so don't eat too many.\n",
      "\n",
      "\n"
     ]
    }
   ],
   "source": [
    "print(multiline)"
   ]
  },
  {
   "cell_type": "code",
   "execution_count": 40,
   "id": "6b6ca1d2",
   "metadata": {},
   "outputs": [],
   "source": [
    "Multiline = \"\"\"\n",
    "\n",
    "I've always loved \"Ice creams\"\n",
    "\n",
    "\"\"\""
   ]
  },
  {
   "cell_type": "code",
   "execution_count": 41,
   "id": "d534179c",
   "metadata": {},
   "outputs": [
    {
     "name": "stdout",
     "output_type": "stream",
     "text": [
      "\n",
      "\n",
      "\"I've always loved \"Ice creams\"\n",
      "\n",
      "\n"
     ]
    }
   ],
   "source": [
    "print(Multiline)"
   ]
  },
  {
   "cell_type": "code",
   "execution_count": 42,
   "id": "60202fcd",
   "metadata": {},
   "outputs": [
    {
     "data": {
      "text/plain": [
       "str"
      ]
     },
     "execution_count": 42,
     "metadata": {},
     "output_type": "execute_result"
    }
   ],
   "source": [
    "type(Multiline)"
   ]
  },
  {
   "cell_type": "code",
   "execution_count": 43,
   "id": "5a7e42c5",
   "metadata": {},
   "outputs": [],
   "source": [
    "a = 'Hello World!'"
   ]
  },
  {
   "cell_type": "code",
   "execution_count": 44,
   "id": "ae392d72",
   "metadata": {},
   "outputs": [
    {
     "name": "stdout",
     "output_type": "stream",
     "text": [
      "Hello\n"
     ]
    }
   ],
   "source": [
    "print(a[:5])"
   ]
  },
  {
   "cell_type": "code",
   "execution_count": 45,
   "id": "e9300030",
   "metadata": {},
   "outputs": [
    {
     "name": "stdout",
     "output_type": "stream",
     "text": [
      "Hello Wor\n"
     ]
    }
   ],
   "source": [
    "print(a[:-3])"
   ]
  },
  {
   "cell_type": "code",
   "execution_count": 51,
   "id": "e4564731",
   "metadata": {},
   "outputs": [
    {
     "name": "stdout",
     "output_type": "stream",
     "text": [
      "o\n"
     ]
    }
   ],
   "source": [
    "print(a[7])"
   ]
  },
  {
   "cell_type": "code",
   "execution_count": 52,
   "id": "bd3ad401",
   "metadata": {},
   "outputs": [
    {
     "name": "stdout",
     "output_type": "stream",
     "text": [
      "llo Wor\n"
     ]
    }
   ],
   "source": [
    "print(a[2:-3])"
   ]
  },
  {
   "cell_type": "code",
   "execution_count": 53,
   "id": "ee7a6abc",
   "metadata": {},
   "outputs": [
    {
     "data": {
      "text/plain": [
       "'Hello World!Hello World!Hello World!'"
      ]
     },
     "execution_count": 53,
     "metadata": {},
     "output_type": "execute_result"
    }
   ],
   "source": [
    "a*3"
   ]
  },
  {
   "cell_type": "code",
   "execution_count": 54,
   "id": "c54ded19",
   "metadata": {},
   "outputs": [
    {
     "data": {
      "text/plain": [
       "'Hello World!Hello World!'"
      ]
     },
     "execution_count": 54,
     "metadata": {},
     "output_type": "execute_result"
    }
   ],
   "source": [
    "a+a"
   ]
  },
  {
   "cell_type": "code",
   "execution_count": 219,
   "id": "5bc4763b",
   "metadata": {},
   "outputs": [
    {
     "data": {
      "text/plain": [
       "[1, 2, 3]"
      ]
     },
     "execution_count": 219,
     "metadata": {},
     "output_type": "execute_result"
    }
   ],
   "source": [
    "#List\n",
    "[1,2,3]"
   ]
  },
  {
   "cell_type": "code",
   "execution_count": 56,
   "id": "5a254b22",
   "metadata": {},
   "outputs": [
    {
     "data": {
      "text/plain": [
       "['Chocolate', 'Strawberry', 'Vanilla']"
      ]
     },
     "execution_count": 56,
     "metadata": {},
     "output_type": "execute_result"
    }
   ],
   "source": [
    "['Chocolate','Strawberry','Vanilla']"
   ]
  },
  {
   "cell_type": "code",
   "execution_count": 57,
   "id": "68dd5beb",
   "metadata": {},
   "outputs": [
    {
     "data": {
      "text/plain": [
       "['Cholocate', 3, ['Scoops', 'Spoons'], True]"
      ]
     },
     "execution_count": 57,
     "metadata": {},
     "output_type": "execute_result"
    }
   ],
   "source": [
    "['Cholocate', 3, ['Scoops', 'Spoons'], True]"
   ]
  },
  {
   "cell_type": "code",
   "execution_count": 60,
   "id": "9678b49a",
   "metadata": {},
   "outputs": [
    {
     "name": "stdout",
     "output_type": "stream",
     "text": [
      "['Chocolate', 'Strawberry', 'Vanilla', 'Caramel']\n"
     ]
    }
   ],
   "source": [
    "ice_cream = ['Chocolate','Strawberry','Vanilla']\n",
    "ice_cream.append('Caramel')\n",
    "print(ice_cream)"
   ]
  },
  {
   "cell_type": "code",
   "execution_count": 61,
   "id": "cbbe8ba1",
   "metadata": {},
   "outputs": [
    {
     "name": "stdout",
     "output_type": "stream",
     "text": [
      "['Chocolate', 'Mint', 'Vanilla', 'Caramel']\n"
     ]
    }
   ],
   "source": [
    "ice_cream[1] = 'Mint'\n",
    "print(ice_cream)"
   ]
  },
  {
   "cell_type": "code",
   "execution_count": 62,
   "id": "aa98316c",
   "metadata": {},
   "outputs": [],
   "source": [
    "nested_list = ['Cholocate', 3, ['Scoops', 'Spoons'], True]"
   ]
  },
  {
   "cell_type": "code",
   "execution_count": 66,
   "id": "efb81459",
   "metadata": {},
   "outputs": [
    {
     "data": {
      "text/plain": [
       "'Scoops'"
      ]
     },
     "execution_count": 66,
     "metadata": {},
     "output_type": "execute_result"
    }
   ],
   "source": [
    "nested_list[2][0]"
   ]
  },
  {
   "cell_type": "code",
   "execution_count": 68,
   "id": "64568c45",
   "metadata": {},
   "outputs": [],
   "source": [
    "#Tuples\n",
    "tuple_scoops = (1,2,3,2,1)"
   ]
  },
  {
   "cell_type": "code",
   "execution_count": 69,
   "id": "b9a15021",
   "metadata": {},
   "outputs": [
    {
     "data": {
      "text/plain": [
       "tuple"
      ]
     },
     "execution_count": 69,
     "metadata": {},
     "output_type": "execute_result"
    }
   ],
   "source": [
    "type(tuple_scoops)"
   ]
  },
  {
   "cell_type": "code",
   "execution_count": 70,
   "id": "0f3af79a",
   "metadata": {},
   "outputs": [
    {
     "data": {
      "text/plain": [
       "1"
      ]
     },
     "execution_count": 70,
     "metadata": {},
     "output_type": "execute_result"
    }
   ],
   "source": [
    "tuple_scoops[0]"
   ]
  },
  {
   "cell_type": "code",
   "execution_count": 71,
   "id": "bfd94e12",
   "metadata": {},
   "outputs": [
    {
     "ename": "AttributeError",
     "evalue": "'tuple' object has no attribute 'append'",
     "output_type": "error",
     "traceback": [
      "\u001b[1;31m---------------------------------------------------------------------------\u001b[0m",
      "\u001b[1;31mAttributeError\u001b[0m                            Traceback (most recent call last)",
      "Cell \u001b[1;32mIn[71], line 2\u001b[0m\n\u001b[0;32m      1\u001b[0m \u001b[38;5;66;03m#Cannot modify tuples as opposed to lists\u001b[39;00m\n\u001b[1;32m----> 2\u001b[0m tuple_scoops\u001b[38;5;241m.\u001b[39mappend(\u001b[38;5;241m4\u001b[39m)\n",
      "\u001b[1;31mAttributeError\u001b[0m: 'tuple' object has no attribute 'append'"
     ]
    }
   ],
   "source": [
    "#Cannot modify tuples as opposed to lists\n",
    "tuple_scoops.append(4)"
   ]
  },
  {
   "cell_type": "code",
   "execution_count": 72,
   "id": "c781be78",
   "metadata": {},
   "outputs": [],
   "source": [
    "#Sets = similar to tuples and lists but sets don't contain duplicate elements. Values cannot be accessed with an index because\n",
    "#       values are unordered in sets\n",
    "\n",
    "daily_scoops = {1,2,3}"
   ]
  },
  {
   "cell_type": "code",
   "execution_count": 73,
   "id": "6113115f",
   "metadata": {},
   "outputs": [
    {
     "data": {
      "text/plain": [
       "set"
      ]
     },
     "execution_count": 73,
     "metadata": {},
     "output_type": "execute_result"
    }
   ],
   "source": [
    "type(daily_scoops)"
   ]
  },
  {
   "cell_type": "code",
   "execution_count": 82,
   "id": "9ecef3d3",
   "metadata": {},
   "outputs": [
    {
     "name": "stdout",
     "output_type": "stream",
     "text": [
      "{1, 3, 4, 5, 10, 11, 12, 15}\n"
     ]
    }
   ],
   "source": [
    "roomate_daily_scoops_log = {11,15,10,3,5,3,12,1,4,5,4}\n",
    "print(roomate_daily_scoops_log)"
   ]
  },
  {
   "cell_type": "code",
   "execution_count": 83,
   "id": "5eef77d7",
   "metadata": {},
   "outputs": [
    {
     "name": "stdout",
     "output_type": "stream",
     "text": [
      "{0, 1, 2, 3, 4, 5, 6, 7}\n"
     ]
    }
   ],
   "source": [
    "my_daily_scoops_log = {1,2,5,4,3,4,3,2,5,6,5,4,2,7,0}\n",
    "print(my_daily_scoops_log)"
   ]
  },
  {
   "cell_type": "code",
   "execution_count": 84,
   "id": "9d685015",
   "metadata": {},
   "outputs": [
    {
     "name": "stdout",
     "output_type": "stream",
     "text": [
      "{0, 1, 2, 3, 4, 5, 6, 7, 10, 11, 12, 15}\n"
     ]
    }
   ],
   "source": [
    "#All unique values between the two sets\n",
    "print(roomate_daily_scoops_log | my_daily_scoops_log)"
   ]
  },
  {
   "cell_type": "code",
   "execution_count": 85,
   "id": "6e5bc890",
   "metadata": {},
   "outputs": [
    {
     "name": "stdout",
     "output_type": "stream",
     "text": [
      "{1, 3, 4, 5}\n"
     ]
    }
   ],
   "source": [
    "#Which values show up in both sets\n",
    "print(roomate_daily_scoops_log & my_daily_scoops_log)"
   ]
  },
  {
   "cell_type": "code",
   "execution_count": 86,
   "id": "2c4456e8",
   "metadata": {},
   "outputs": [
    {
     "name": "stdout",
     "output_type": "stream",
     "text": [
      "{10, 11, 12, 15}\n"
     ]
    }
   ],
   "source": [
    "#Values that are in the first set but not in the second set\n",
    "print(roomate_daily_scoops_log - my_daily_scoops_log)"
   ]
  },
  {
   "cell_type": "code",
   "execution_count": 88,
   "id": "0d02417c",
   "metadata": {},
   "outputs": [
    {
     "name": "stdout",
     "output_type": "stream",
     "text": [
      "{0, 2, 6, 7, 10, 11, 12, 15}\n"
     ]
    }
   ],
   "source": [
    "#Values unique to each set\n",
    "print(roomate_daily_scoops_log ^ my_daily_scoops_log)"
   ]
  },
  {
   "cell_type": "code",
   "execution_count": 92,
   "id": "d589f993",
   "metadata": {},
   "outputs": [],
   "source": [
    "#Dictionaries\n",
    "#Key/Value pair used in dictionaries\n",
    "\n",
    "dict_ice_cream = {'name':'Muhammad Owais','weekly intake': 10, 'Favorite Icecreams':['Chocolate', 'Vanilla']}"
   ]
  },
  {
   "cell_type": "code",
   "execution_count": 93,
   "id": "edc6dd77",
   "metadata": {},
   "outputs": [
    {
     "data": {
      "text/plain": [
       "dict"
      ]
     },
     "execution_count": 93,
     "metadata": {},
     "output_type": "execute_result"
    }
   ],
   "source": [
    "type(dict_ice_cream)"
   ]
  },
  {
   "cell_type": "code",
   "execution_count": 94,
   "id": "8c897e42",
   "metadata": {},
   "outputs": [
    {
     "name": "stdout",
     "output_type": "stream",
     "text": [
      "{'name': 'Muhammad Owais', 'weekly intake': 10, 'Favorite Icecreams': ['Chocolate', 'Vanilla']}\n"
     ]
    }
   ],
   "source": [
    "print(dict_ice_cream)"
   ]
  },
  {
   "cell_type": "code",
   "execution_count": 95,
   "id": "5f216a9b",
   "metadata": {},
   "outputs": [
    {
     "data": {
      "text/plain": [
       "dict_values(['Muhammad Owais', 10, ['Chocolate', 'Vanilla']])"
      ]
     },
     "execution_count": 95,
     "metadata": {},
     "output_type": "execute_result"
    }
   ],
   "source": [
    "dict_ice_cream.values()"
   ]
  },
  {
   "cell_type": "code",
   "execution_count": 96,
   "id": "afef2d2b",
   "metadata": {},
   "outputs": [
    {
     "data": {
      "text/plain": [
       "dict_keys(['name', 'weekly intake', 'Favorite Icecreams'])"
      ]
     },
     "execution_count": 96,
     "metadata": {},
     "output_type": "execute_result"
    }
   ],
   "source": [
    "dict_ice_cream.keys()"
   ]
  },
  {
   "cell_type": "code",
   "execution_count": 97,
   "id": "5589ca65",
   "metadata": {},
   "outputs": [
    {
     "data": {
      "text/plain": [
       "dict_items([('name', 'Muhammad Owais'), ('weekly intake', 10), ('Favorite Icecreams', ['Chocolate', 'Vanilla'])])"
      ]
     },
     "execution_count": 97,
     "metadata": {},
     "output_type": "execute_result"
    }
   ],
   "source": [
    "dict_ice_cream.items()"
   ]
  },
  {
   "cell_type": "code",
   "execution_count": 99,
   "id": "ee20882e",
   "metadata": {},
   "outputs": [
    {
     "data": {
      "text/plain": [
       "'Muhammad Owais'"
      ]
     },
     "execution_count": 99,
     "metadata": {},
     "output_type": "execute_result"
    }
   ],
   "source": [
    "#Dictionary cannot be called with indexes, instead use key\n",
    "dict_ice_cream['name']"
   ]
  },
  {
   "cell_type": "code",
   "execution_count": 100,
   "id": "5cedfa95",
   "metadata": {},
   "outputs": [],
   "source": [
    "#Dictionaries can also update information\n",
    "\n",
    "dict_ice_cream['weekly intake'] = 5"
   ]
  },
  {
   "cell_type": "code",
   "execution_count": 101,
   "id": "c4fff50b",
   "metadata": {},
   "outputs": [
    {
     "data": {
      "text/plain": [
       "5"
      ]
     },
     "execution_count": 101,
     "metadata": {},
     "output_type": "execute_result"
    }
   ],
   "source": [
    "dict_ice_cream['weekly intake']"
   ]
  },
  {
   "cell_type": "code",
   "execution_count": 102,
   "id": "6f2aad4c",
   "metadata": {},
   "outputs": [
    {
     "name": "stdout",
     "output_type": "stream",
     "text": [
      "{'name': 'Muhammad Owais', 'weekly intake': 10, 'weight': '100kg'}\n"
     ]
    }
   ],
   "source": [
    "#Put parentheses to update the entire dictionary\n",
    "dict_ice_cream = ({'name':'Muhammad Owais','weekly intake': 10, 'weight':'100kg'})\n",
    "print(dict_ice_cream)"
   ]
  },
  {
   "cell_type": "code",
   "execution_count": 103,
   "id": "629bbcbc",
   "metadata": {},
   "outputs": [
    {
     "name": "stdout",
     "output_type": "stream",
     "text": [
      "{'name': 'Muhammad Owais', 'weekly intake': 10}\n"
     ]
    }
   ],
   "source": [
    "del dict_ice_cream['weight']\n",
    "print(dict_ice_cream)"
   ]
  },
  {
   "cell_type": "markdown",
   "id": "ed0e263d",
   "metadata": {},
   "source": [
    "# Comparison Operators"
   ]
  },
  {
   "cell_type": "code",
   "execution_count": 104,
   "id": "73fbe1b7",
   "metadata": {},
   "outputs": [
    {
     "ename": "SyntaxError",
     "evalue": "cannot assign to literal here. Maybe you meant '==' instead of '='? (814398681.py, line 1)",
     "output_type": "error",
     "traceback": [
      "\u001b[1;36m  Cell \u001b[1;32mIn[104], line 1\u001b[1;36m\u001b[0m\n\u001b[1;33m    1 = 1\u001b[0m\n\u001b[1;37m    ^\u001b[0m\n\u001b[1;31mSyntaxError\u001b[0m\u001b[1;31m:\u001b[0m cannot assign to literal here. Maybe you meant '==' instead of '='?\n"
     ]
    }
   ],
   "source": [
    "1 = 1"
   ]
  },
  {
   "cell_type": "code",
   "execution_count": 105,
   "id": "f5d9aa1e",
   "metadata": {},
   "outputs": [
    {
     "data": {
      "text/plain": [
       "True"
      ]
     },
     "execution_count": 105,
     "metadata": {},
     "output_type": "execute_result"
    }
   ],
   "source": [
    "1 == 1"
   ]
  },
  {
   "cell_type": "code",
   "execution_count": 106,
   "id": "440f6363",
   "metadata": {},
   "outputs": [
    {
     "data": {
      "text/plain": [
       "True"
      ]
     },
     "execution_count": 106,
     "metadata": {},
     "output_type": "execute_result"
    }
   ],
   "source": [
    "1 != 2"
   ]
  },
  {
   "cell_type": "code",
   "execution_count": 108,
   "id": "e1acf244",
   "metadata": {},
   "outputs": [
    {
     "data": {
      "text/plain": [
       "True"
      ]
     },
     "execution_count": 108,
     "metadata": {},
     "output_type": "execute_result"
    }
   ],
   "source": [
    "'Chocolate' == 'Chocolate'"
   ]
  },
  {
   "cell_type": "code",
   "execution_count": 109,
   "id": "4fbe7712",
   "metadata": {},
   "outputs": [
    {
     "data": {
      "text/plain": [
       "False"
      ]
     },
     "execution_count": 109,
     "metadata": {},
     "output_type": "execute_result"
    }
   ],
   "source": [
    "x = 'Vanilla'\n",
    "y= 'Chocolate'\n",
    "\n",
    "x==y"
   ]
  },
  {
   "cell_type": "code",
   "execution_count": 110,
   "id": "a636bab9",
   "metadata": {},
   "outputs": [
    {
     "data": {
      "text/plain": [
       "True"
      ]
     },
     "execution_count": 110,
     "metadata": {},
     "output_type": "execute_result"
    }
   ],
   "source": [
    "1 < 2"
   ]
  },
  {
   "cell_type": "code",
   "execution_count": 111,
   "id": "7a10f81d",
   "metadata": {},
   "outputs": [
    {
     "data": {
      "text/plain": [
       "False"
      ]
     },
     "execution_count": 111,
     "metadata": {},
     "output_type": "execute_result"
    }
   ],
   "source": [
    "1<1"
   ]
  },
  {
   "cell_type": "code",
   "execution_count": 112,
   "id": "226bc8ac",
   "metadata": {},
   "outputs": [
    {
     "data": {
      "text/plain": [
       "True"
      ]
     },
     "execution_count": 112,
     "metadata": {},
     "output_type": "execute_result"
    }
   ],
   "source": [
    "1<=1"
   ]
  },
  {
   "cell_type": "code",
   "execution_count": 113,
   "id": "e58649cf",
   "metadata": {},
   "outputs": [
    {
     "data": {
      "text/plain": [
       "True"
      ]
     },
     "execution_count": 113,
     "metadata": {},
     "output_type": "execute_result"
    }
   ],
   "source": [
    "1>=1"
   ]
  },
  {
   "cell_type": "code",
   "execution_count": 114,
   "id": "8bc1cdc0",
   "metadata": {},
   "outputs": [
    {
     "data": {
      "text/plain": [
       "False"
      ]
     },
     "execution_count": 114,
     "metadata": {},
     "output_type": "execute_result"
    }
   ],
   "source": [
    "(5>1) and (1>5)"
   ]
  },
  {
   "cell_type": "code",
   "execution_count": 115,
   "id": "6c693335",
   "metadata": {},
   "outputs": [
    {
     "data": {
      "text/plain": [
       "True"
      ]
     },
     "execution_count": 115,
     "metadata": {},
     "output_type": "execute_result"
    }
   ],
   "source": [
    "(5>1) or (1>5)"
   ]
  },
  {
   "cell_type": "code",
   "execution_count": 116,
   "id": "2324494e",
   "metadata": {},
   "outputs": [
    {
     "data": {
      "text/plain": [
       "True"
      ]
     },
     "execution_count": 116,
     "metadata": {},
     "output_type": "execute_result"
    }
   ],
   "source": [
    "(5>1) and not(1>5)"
   ]
  },
  {
   "cell_type": "code",
   "execution_count": 117,
   "id": "103b8e02",
   "metadata": {},
   "outputs": [
    {
     "data": {
      "text/plain": [
       "True"
      ]
     },
     "execution_count": 117,
     "metadata": {},
     "output_type": "execute_result"
    }
   ],
   "source": [
    "ice_cream = 'Chocolate Ice cream is my favorite'\n",
    "'favorite' in ice_cream"
   ]
  },
  {
   "cell_type": "code",
   "execution_count": 125,
   "id": "4b1d1010",
   "metadata": {},
   "outputs": [
    {
     "data": {
      "text/plain": [
       "True"
      ]
     },
     "execution_count": 125,
     "metadata": {},
     "output_type": "execute_result"
    }
   ],
   "source": [
    "scoops = [1,2,3,4,5]\n",
    "wanted_scoops = 6\n",
    "2 in scoops\n"
   ]
  },
  {
   "cell_type": "code",
   "execution_count": 126,
   "id": "16970c87",
   "metadata": {},
   "outputs": [
    {
     "data": {
      "text/plain": [
       "False"
      ]
     },
     "execution_count": 126,
     "metadata": {},
     "output_type": "execute_result"
    }
   ],
   "source": [
    "6 in scoops"
   ]
  },
  {
   "cell_type": "markdown",
   "id": "4b06a289",
   "metadata": {},
   "source": [
    "# If - elseif"
   ]
  },
  {
   "cell_type": "code",
   "execution_count": 128,
   "id": "4b32b3d1",
   "metadata": {},
   "outputs": [
    {
     "name": "stdout",
     "output_type": "stream",
     "text": [
      "Working\n"
     ]
    }
   ],
   "source": [
    "if 25>10:\n",
    "    print('Working')"
   ]
  },
  {
   "cell_type": "code",
   "execution_count": 130,
   "id": "e5278493",
   "metadata": {},
   "outputs": [
    {
     "name": "stdout",
     "output_type": "stream",
     "text": [
      "Not working...\n"
     ]
    }
   ],
   "source": [
    "if 25<10:\n",
    "    print('Working')\n",
    "else:\n",
    "    print(\"Not working...\")"
   ]
  },
  {
   "cell_type": "code",
   "execution_count": 136,
   "id": "7ef7d348",
   "metadata": {},
   "outputs": [
    {
     "name": "stdout",
     "output_type": "stream",
     "text": [
      "Working\n"
     ]
    }
   ],
   "source": [
    "if (25<10) or (3>1):\n",
    "    print('Working')\n",
    "elif 25<10:\n",
    "    print('Else if 1 working')\n",
    "elif 1>3:\n",
    "    print('Else if 2 working')\n",
    "elif 5>6:\n",
    "    print('Else if 3 working')\n",
    "elif 25>10:\n",
    "    print('Else if 4 working')\n",
    "else:\n",
    "    print(\"Not working...\")"
   ]
  },
  {
   "cell_type": "code",
   "execution_count": 137,
   "id": "aaec1032",
   "metadata": {},
   "outputs": [
    {
     "name": "stdout",
     "output_type": "stream",
     "text": [
      "not working\n"
     ]
    }
   ],
   "source": [
    "print('working') if 10>11 else print('not working')"
   ]
  },
  {
   "cell_type": "code",
   "execution_count": 140,
   "id": "d087bf5f",
   "metadata": {},
   "outputs": [
    {
     "name": "stdout",
     "output_type": "stream",
     "text": [
      "Working\n",
      "Nested else if 2 statement working\n"
     ]
    }
   ],
   "source": [
    "#Nested if-elseif\n",
    "if (25<10) or (3>1):\n",
    "    print('Working')\n",
    "    if 5>10:\n",
    "        print('Nested if statement working')\n",
    "    elif 2>3:\n",
    "        print('Nested else if 1 statement working')\n",
    "    elif 3>1:\n",
    "        print('Nested else if 2 statement working')\n",
    "    else:\n",
    "        print('Nested statement not working...')\n",
    "elif 25<10:\n",
    "    print('Else if 1 working')\n",
    "elif 1>3:\n",
    "    print('Else if 2 working')\n",
    "elif 5>6:\n",
    "    print('Else if 3 working')\n",
    "elif 25>10:\n",
    "    print('Else if 4 working')\n",
    "else:\n",
    "    print(\"Not working...\")"
   ]
  },
  {
   "cell_type": "code",
   "execution_count": 141,
   "id": "9ad3da27",
   "metadata": {},
   "outputs": [],
   "source": [
    "int = [1,2,3,4,5,6]"
   ]
  },
  {
   "cell_type": "markdown",
   "id": "51f7fc6b",
   "metadata": {},
   "source": [
    "# For Loops"
   ]
  },
  {
   "cell_type": "code",
   "execution_count": 144,
   "id": "eb5d3bc8",
   "metadata": {},
   "outputs": [
    {
     "name": "stdout",
     "output_type": "stream",
     "text": [
      "printing 1\n",
      "printing 2\n",
      "printing 3\n",
      "printing 4\n",
      "printing 5\n",
      "printing 6\n"
     ]
    }
   ],
   "source": [
    "for num in int:\n",
    "    print('printing', num)"
   ]
  },
  {
   "cell_type": "code",
   "execution_count": 145,
   "id": "69ab8f31",
   "metadata": {},
   "outputs": [],
   "source": [
    "ice_cream_dict = {'name':'Owais','weekly consumption': 'Five scoops per week','Favorite Icecreams':['Mint','Chocolate']}"
   ]
  },
  {
   "cell_type": "code",
   "execution_count": 146,
   "id": "f67fe898",
   "metadata": {},
   "outputs": [
    {
     "name": "stdout",
     "output_type": "stream",
     "text": [
      "Owais\n",
      "Five scoops per week\n",
      "['Mint', 'Chocolate']\n"
     ]
    }
   ],
   "source": [
    "for cream in ice_cream_dict.values():\n",
    "    print(cream)"
   ]
  },
  {
   "cell_type": "code",
   "execution_count": 147,
   "id": "21180bad",
   "metadata": {},
   "outputs": [
    {
     "name": "stdout",
     "output_type": "stream",
     "text": [
      "name --> Owais\n",
      "weekly consumption --> Five scoops per week\n",
      "Favorite Icecreams --> ['Mint', 'Chocolate']\n"
     ]
    }
   ],
   "source": [
    "for key, values in ice_cream_dict.items():\n",
    "    print(key, '-->', values)"
   ]
  },
  {
   "cell_type": "code",
   "execution_count": 150,
   "id": "bc242532",
   "metadata": {},
   "outputs": [],
   "source": [
    "#Nested For loops\n",
    "flavors = ['Chocolate', 'Mint', 'Vanilla']\n",
    "toppings = ['Marshmallows', 'sprinkles', 'Biscuits']"
   ]
  },
  {
   "cell_type": "code",
   "execution_count": 151,
   "id": "ce8f10cb",
   "metadata": {},
   "outputs": [
    {
     "name": "stdout",
     "output_type": "stream",
     "text": [
      "Chocolate topped with Marshmallows\n",
      "Chocolate topped with sprinkles\n",
      "Chocolate topped with Biscuits\n",
      "Mint topped with Marshmallows\n",
      "Mint topped with sprinkles\n",
      "Mint topped with Biscuits\n",
      "Vanilla topped with Marshmallows\n",
      "Vanilla topped with sprinkles\n",
      "Vanilla topped with Biscuits\n"
     ]
    }
   ],
   "source": [
    "for one in flavors:\n",
    "    for two in toppings:\n",
    "        print(one, 'topped with', two)"
   ]
  },
  {
   "cell_type": "markdown",
   "id": "820b28b5",
   "metadata": {},
   "source": [
    "# While Loops"
   ]
  },
  {
   "cell_type": "code",
   "execution_count": 153,
   "id": "a3328324",
   "metadata": {},
   "outputs": [
    {
     "name": "stdout",
     "output_type": "stream",
     "text": [
      "0\n",
      "1\n",
      "2\n",
      "3\n",
      "4\n"
     ]
    }
   ],
   "source": [
    "num = 0\n",
    "while num < 5:\n",
    "    print(num)\n",
    "    num += 1"
   ]
  },
  {
   "cell_type": "code",
   "execution_count": 156,
   "id": "b48c7847",
   "metadata": {},
   "outputs": [
    {
     "name": "stdout",
     "output_type": "stream",
     "text": [
      "0\n",
      "1\n",
      "2\n",
      "3\n"
     ]
    }
   ],
   "source": [
    "#Break statement\n",
    "num = 0\n",
    "while num < 5:\n",
    "    print(num)\n",
    "    if num == 3:\n",
    "        break\n",
    "    num += 1"
   ]
  },
  {
   "cell_type": "code",
   "execution_count": 159,
   "id": "611123e3",
   "metadata": {},
   "outputs": [
    {
     "name": "stdout",
     "output_type": "stream",
     "text": [
      "0\n",
      "1\n",
      "2\n",
      "3\n",
      "4\n",
      "While loop terminated\n"
     ]
    }
   ],
   "source": [
    "#Break statement\n",
    "num = 0\n",
    "while num < 5:\n",
    "    print(num)\n",
    "    num += 1\n",
    "else:\n",
    "    print('While loop terminated')"
   ]
  },
  {
   "cell_type": "code",
   "execution_count": 162,
   "id": "3216dad4",
   "metadata": {},
   "outputs": [
    {
     "name": "stdout",
     "output_type": "stream",
     "text": [
      "1\n",
      "2\n",
      "4\n",
      "5\n",
      "While loop terminated\n"
     ]
    }
   ],
   "source": [
    "#Break statement\n",
    "num = 0\n",
    "while num < 5:\n",
    "    \n",
    "    num += 1\n",
    "    if num == 3:\n",
    "        continue\n",
    "    print(num)\n",
    "else:\n",
    "    print('While loop terminated')"
   ]
  },
  {
   "cell_type": "markdown",
   "id": "77d82fee",
   "metadata": {},
   "source": [
    "# Functions"
   ]
  },
  {
   "cell_type": "code",
   "execution_count": 163,
   "id": "899f86df",
   "metadata": {},
   "outputs": [],
   "source": [
    "def first_func():\n",
    "    print('Function 1')"
   ]
  },
  {
   "cell_type": "code",
   "execution_count": 164,
   "id": "0e69d225",
   "metadata": {},
   "outputs": [
    {
     "name": "stdout",
     "output_type": "stream",
     "text": [
      "Function 1\n"
     ]
    }
   ],
   "source": [
    "first_func()"
   ]
  },
  {
   "cell_type": "code",
   "execution_count": 165,
   "id": "5dd3e4c9",
   "metadata": {},
   "outputs": [],
   "source": [
    "#Arguments\n",
    "def num_squared(num):\n",
    "    print(num**2)"
   ]
  },
  {
   "cell_type": "code",
   "execution_count": 166,
   "id": "620cbea3",
   "metadata": {},
   "outputs": [
    {
     "name": "stdout",
     "output_type": "stream",
     "text": [
      "25\n"
     ]
    }
   ],
   "source": [
    "num_squared(5)"
   ]
  },
  {
   "cell_type": "code",
   "execution_count": 168,
   "id": "ee8e34bd",
   "metadata": {},
   "outputs": [
    {
     "name": "stdout",
     "output_type": "stream",
     "text": [
      "4\n"
     ]
    }
   ],
   "source": [
    "num_squared(2)"
   ]
  },
  {
   "cell_type": "code",
   "execution_count": 172,
   "id": "6ca1e3e8",
   "metadata": {},
   "outputs": [],
   "source": [
    "def num_squared_custom(num,pow):\n",
    "    print(num**pow)"
   ]
  },
  {
   "cell_type": "code",
   "execution_count": 174,
   "id": "3ee5b305",
   "metadata": {},
   "outputs": [
    {
     "name": "stdout",
     "output_type": "stream",
     "text": [
      "125\n"
     ]
    }
   ],
   "source": [
    "num_squared_custom(5,3)"
   ]
  },
  {
   "cell_type": "code",
   "execution_count": 180,
   "id": "5042d0ea",
   "metadata": {},
   "outputs": [],
   "source": [
    "#Arbitrary arguments\n",
    "args_tuple = (3,6,5,7,1)\n",
    "\n",
    "def num_args(*args):\n",
    "    print(args[0]*args[1])"
   ]
  },
  {
   "cell_type": "code",
   "execution_count": 182,
   "id": "032ab6eb",
   "metadata": {},
   "outputs": [
    {
     "name": "stdout",
     "output_type": "stream",
     "text": [
      "18\n"
     ]
    }
   ],
   "source": [
    "num_args(*args_tuple)"
   ]
  },
  {
   "cell_type": "code",
   "execution_count": 183,
   "id": "3739259f",
   "metadata": {},
   "outputs": [],
   "source": [
    "#Keyword argument\n",
    "def num_squared_custom(num,pow):\n",
    "    print(num**pow)"
   ]
  },
  {
   "cell_type": "code",
   "execution_count": 184,
   "id": "eada7c6e",
   "metadata": {},
   "outputs": [
    {
     "name": "stdout",
     "output_type": "stream",
     "text": [
      "243\n"
     ]
    }
   ],
   "source": [
    "num_squared_custom(pow = 5, num = 3)"
   ]
  },
  {
   "cell_type": "code",
   "execution_count": 190,
   "id": "f28965da",
   "metadata": {},
   "outputs": [],
   "source": [
    "def num_key_args(**num):\n",
    "    print('My number is : ' + num['int'] + ' My Other Number : ' + num['int2'])"
   ]
  },
  {
   "cell_type": "code",
   "execution_count": 191,
   "id": "a3726785",
   "metadata": {},
   "outputs": [
    {
     "name": "stdout",
     "output_type": "stream",
     "text": [
      "My number is : 2309 My Other Number : 2221\n"
     ]
    }
   ],
   "source": [
    "num_key_args(int = \"2309\", int2 = '2221')"
   ]
  }
 ],
 "metadata": {
  "kernelspec": {
   "display_name": "Python 3 (ipykernel)",
   "language": "python",
   "name": "python3"
  },
  "language_info": {
   "codemirror_mode": {
    "name": "ipython",
    "version": 3
   },
   "file_extension": ".py",
   "mimetype": "text/x-python",
   "name": "python",
   "nbconvert_exporter": "python",
   "pygments_lexer": "ipython3",
   "version": "3.11.5"
  }
 },
 "nbformat": 4,
 "nbformat_minor": 5
}
